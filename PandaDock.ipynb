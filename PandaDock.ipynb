{
  "nbformat": 4,
  "nbformat_minor": 0,
  "metadata": {
    "colab": {
      "provenance": [],
      "gpuType": "T4",
      "include_colab_link": true
    },
    "kernelspec": {
      "name": "python3",
      "display_name": "Python 3"
    },
    "language_info": {
      "name": "python"
    },
    "accelerator": "GPU"
  },
  "cells": [
    {
      "cell_type": "markdown",
      "metadata": {
        "id": "view-in-github",
        "colab_type": "text"
      },
      "source": [
        "<a href=\"https://colab.research.google.com/github/BallesterGroup/MolecularDocking/blob/main/PandaDock.ipynb\" target=\"_parent\"><img src=\"https://colab.research.google.com/assets/colab-badge.svg\" alt=\"Open In Colab\"/></a>"
      ]
    },
    {
      "cell_type": "markdown",
      "source": [
        "🧬 **PandaDock: A Physics-Based Molecular Docking Software**\n",
        "\n",
        "\n",
        "<div align=\"center\">\n",
        "\n",
        "🧪 **Santiago Bolívar A.**  \n",
        "**Qco., M.Sc., Ph.D.**  \n",
        "📍 *National University of Rosario, Argentina*  \n",
        "🔗 [GitHub Profile](https://github.com/Sbolivar16)\n",
        "\n",
        "</div>\n",
        "\n",
        "---\n",
        "\n",
        "PandaDock is a cutting-edge, Python-based molecular docking toolkit designed to support high-precision **drug discovery**, **computational chemistry**, and **bioinformatics** workflows. Developed by [**Dr. Pritam Kumar Panda**](https://github.com/pritampanda15), PandaDock combines traditional docking methodologies with **physics-based scoring functions**, delivering a powerful and flexible platform for scientific research.\n",
        "\n",
        "---\n",
        "\n",
        "### 🔍 Key Features\n",
        "\n",
        "- **🧾 Flexible Input Parsing**  \n",
        "  Supports multiple molecular formats (PDB, MOL, SDF), enabling smooth integration across datasets.\n",
        "\n",
        "- **🎯 Binding Site Detection**  \n",
        "  Offers both manual and automated detection using **CASTp-like algorithms** for accurate binding pocket identification.\n",
        "\n",
        "- **🧠 Multiple Scoring Models**  \n",
        "  - *Basic*: Van der Waals and hydrogen bonding.  \n",
        "  - *Enhanced*: Adds electrostatics, desolvation, and hydrophobic interactions.  \n",
        "  - *Physics-Based*: MM-GBSA-inspired decomposition for a deep energetic profile.\n",
        "\n",
        "- **⚡ Hardware Acceleration**  \n",
        "  Utilizes **GPU computing** via PyTorch/CuPy and **multi-core CPU parallelization** to significantly speed up computations.\n",
        "\n",
        "- **🧬 Advanced Search Algorithms**  \n",
        "  Includes Genetic Algorithm, Monte Carlo Simulated Annealing, PANDADOCK (Simulated Annealing + Final Minimization), Random Search, Gradient-based methods, and Replica-Exchange techniques.\n",
        "\n",
        "- **🔄 Flexible Docking**  \n",
        "  Allows **auto-flex** and **custom-flex** options for accounting protein flexibility during the docking process.\n",
        "\n",
        "- **📊 High-Throughput Screening**  \n",
        "  Enables batch processing with automated scoring, filtering, and summarization for large compound libraries.\n",
        "\n",
        "- **📈 Detailed Reporting**  \n",
        "  Provides extensive output including:  \n",
        "  - Energy component breakdown  \n",
        "  - Interaction profiles  \n",
        "  - Pose clustering  \n",
        "  - RMSD validation  \n",
        "  - Interactive HTML visualizations\n",
        "\n",
        "- **🔧 Extensible Python API**  \n",
        "  Offers modular integration into custom pipelines for experienced users.\n",
        "\n",
        "---\n",
        "\n",
        "### ⚖️ Advantages Over Traditional Docking Programs\n",
        "\n",
        "Conventional docking tools often struggle with:  \n",
        "- Limited accuracy in modeling **complex molecular interactions**  \n",
        "- Inability to incorporate **protein flexibility** effectively  \n",
        "- Slower performance without hardware acceleration  \n",
        "\n",
        "**PandaDock** addresses these issues by:  \n",
        "✅ Integrating **physics-based scoring**  \n",
        "✅ Supporting **advanced conformational search algorithms**  \n",
        "✅ Leveraging **GPU/CPU acceleration** for rapid computations\n",
        "\n",
        "---\n",
        "\n",
        "### ⚠️ Limitations\n",
        "\n",
        "- **High Computational Demand**  \n",
        "  Physics-based models and advanced algorithms require powerful hardware, ideally HPC or GPU-enabled systems.\n",
        "\n",
        "- **Steep Learning Curve**  \n",
        "  Due to its flexibility and depth, new users may need time to master the full functionality of the platform.\n",
        "\n",
        "---\n",
        "\n",
        "### 📚 Reference\n",
        "\n",
        "PandaDock is developed and actively maintained by [**Dr. Pritam Kumar Panda**](https://github.com/pritampanda15).  \n",
        "🔗 GitHub Repository: [https://github.com/pritampanda15/PandaDock](https://github.com/pritampanda15/PandaDock)  \n",
        "📘 Documentation & Wiki: [https://github.com/pritampanda15/PandaDock/wiki](https://github.com/pritampanda15/PandaDock/wiki)\n",
        "\n",
        "> *This overview provides an academic summary of PandaDock's architecture, features, and advantages, intended for integration in computational drug discovery and molecular modeling workflows.*\n",
        "\n",
        "---\n"
      ],
      "metadata": {
        "id": "XryYHv0tSmiM"
      }
    },
    {
      "cell_type": "code",
      "source": [
        "# 1. Downgrade NumPy before installing RDKit\n",
        "!pip install numpy==1.24.4\n",
        "\n",
        "# 2. Install RDKit compatible with NumPy 1.x\n",
        "!pip install rdkit-pypi\n",
        "\n",
        "# 3. Install PyTorch with GPU support (optional but recommended)\n",
        "!pip install torch torchvision torchaudio\n",
        "\n",
        "# 4. Install PandaDock\n",
        "!pip install pandadock\n",
        "\n"
      ],
      "metadata": {
        "colab": {
          "base_uri": "https://localhost:8080/"
        },
        "id": "Qb_ssri3HUST",
        "outputId": "3e222647-c3c4-4c0a-a758-0d934edfc907"
      },
      "execution_count": null,
      "outputs": [
        {
          "output_type": "stream",
          "name": "stdout",
          "text": [
            "Requirement already satisfied: numpy==1.24.4 in /usr/local/lib/python3.11/dist-packages (1.24.4)\n",
            "Requirement already satisfied: rdkit-pypi in /usr/local/lib/python3.11/dist-packages (2022.9.5)\n",
            "Requirement already satisfied: numpy in /usr/local/lib/python3.11/dist-packages (from rdkit-pypi) (1.24.4)\n",
            "Requirement already satisfied: Pillow in /usr/local/lib/python3.11/dist-packages (from rdkit-pypi) (11.2.1)\n",
            "Requirement already satisfied: torch in /usr/local/lib/python3.11/dist-packages (2.6.0+cu124)\n",
            "Requirement already satisfied: torchvision in /usr/local/lib/python3.11/dist-packages (0.21.0+cu124)\n",
            "Requirement already satisfied: torchaudio in /usr/local/lib/python3.11/dist-packages (2.6.0+cu124)\n",
            "Requirement already satisfied: filelock in /usr/local/lib/python3.11/dist-packages (from torch) (3.18.0)\n",
            "Requirement already satisfied: typing-extensions>=4.10.0 in /usr/local/lib/python3.11/dist-packages (from torch) (4.13.2)\n",
            "Requirement already satisfied: networkx in /usr/local/lib/python3.11/dist-packages (from torch) (3.4.2)\n",
            "Requirement already satisfied: jinja2 in /usr/local/lib/python3.11/dist-packages (from torch) (3.1.6)\n",
            "Requirement already satisfied: fsspec in /usr/local/lib/python3.11/dist-packages (from torch) (2025.3.2)\n",
            "Collecting nvidia-cuda-nvrtc-cu12==12.4.127 (from torch)\n",
            "  Downloading nvidia_cuda_nvrtc_cu12-12.4.127-py3-none-manylinux2014_x86_64.whl.metadata (1.5 kB)\n",
            "Collecting nvidia-cuda-runtime-cu12==12.4.127 (from torch)\n",
            "  Downloading nvidia_cuda_runtime_cu12-12.4.127-py3-none-manylinux2014_x86_64.whl.metadata (1.5 kB)\n",
            "Collecting nvidia-cuda-cupti-cu12==12.4.127 (from torch)\n",
            "  Downloading nvidia_cuda_cupti_cu12-12.4.127-py3-none-manylinux2014_x86_64.whl.metadata (1.6 kB)\n",
            "Collecting nvidia-cudnn-cu12==9.1.0.70 (from torch)\n",
            "  Downloading nvidia_cudnn_cu12-9.1.0.70-py3-none-manylinux2014_x86_64.whl.metadata (1.6 kB)\n",
            "Collecting nvidia-cublas-cu12==12.4.5.8 (from torch)\n",
            "  Downloading nvidia_cublas_cu12-12.4.5.8-py3-none-manylinux2014_x86_64.whl.metadata (1.5 kB)\n",
            "Collecting nvidia-cufft-cu12==11.2.1.3 (from torch)\n",
            "  Downloading nvidia_cufft_cu12-11.2.1.3-py3-none-manylinux2014_x86_64.whl.metadata (1.5 kB)\n",
            "Collecting nvidia-curand-cu12==10.3.5.147 (from torch)\n",
            "  Downloading nvidia_curand_cu12-10.3.5.147-py3-none-manylinux2014_x86_64.whl.metadata (1.5 kB)\n",
            "Collecting nvidia-cusolver-cu12==11.6.1.9 (from torch)\n",
            "  Downloading nvidia_cusolver_cu12-11.6.1.9-py3-none-manylinux2014_x86_64.whl.metadata (1.6 kB)\n",
            "Collecting nvidia-cusparse-cu12==12.3.1.170 (from torch)\n",
            "  Downloading nvidia_cusparse_cu12-12.3.1.170-py3-none-manylinux2014_x86_64.whl.metadata (1.6 kB)\n",
            "Requirement already satisfied: nvidia-cusparselt-cu12==0.6.2 in /usr/local/lib/python3.11/dist-packages (from torch) (0.6.2)\n",
            "Requirement already satisfied: nvidia-nccl-cu12==2.21.5 in /usr/local/lib/python3.11/dist-packages (from torch) (2.21.5)\n",
            "Requirement already satisfied: nvidia-nvtx-cu12==12.4.127 in /usr/local/lib/python3.11/dist-packages (from torch) (12.4.127)\n",
            "Collecting nvidia-nvjitlink-cu12==12.4.127 (from torch)\n",
            "  Downloading nvidia_nvjitlink_cu12-12.4.127-py3-none-manylinux2014_x86_64.whl.metadata (1.5 kB)\n",
            "Requirement already satisfied: triton==3.2.0 in /usr/local/lib/python3.11/dist-packages (from torch) (3.2.0)\n",
            "Requirement already satisfied: sympy==1.13.1 in /usr/local/lib/python3.11/dist-packages (from torch) (1.13.1)\n",
            "Requirement already satisfied: mpmath<1.4,>=1.1.0 in /usr/local/lib/python3.11/dist-packages (from sympy==1.13.1->torch) (1.3.0)\n",
            "Requirement already satisfied: numpy in /usr/local/lib/python3.11/dist-packages (from torchvision) (1.24.4)\n",
            "Requirement already satisfied: pillow!=8.3.*,>=5.3.0 in /usr/local/lib/python3.11/dist-packages (from torchvision) (11.2.1)\n",
            "Requirement already satisfied: MarkupSafe>=2.0 in /usr/local/lib/python3.11/dist-packages (from jinja2->torch) (3.0.2)\n",
            "Downloading nvidia_cublas_cu12-12.4.5.8-py3-none-manylinux2014_x86_64.whl (363.4 MB)\n",
            "\u001b[2K   \u001b[90m━━━━━━━━━━━━━━━━━━━━━━━━━━━━━━━━━━━━━━━━\u001b[0m \u001b[32m363.4/363.4 MB\u001b[0m \u001b[31m4.1 MB/s\u001b[0m eta \u001b[36m0:00:00\u001b[0m\n",
            "\u001b[?25hDownloading nvidia_cuda_cupti_cu12-12.4.127-py3-none-manylinux2014_x86_64.whl (13.8 MB)\n",
            "\u001b[2K   \u001b[90m━━━━━━━━━━━━━━━━━━━━━━━━━━━━━━━━━━━━━━━━\u001b[0m \u001b[32m13.8/13.8 MB\u001b[0m \u001b[31m93.6 MB/s\u001b[0m eta \u001b[36m0:00:00\u001b[0m\n",
            "\u001b[?25hDownloading nvidia_cuda_nvrtc_cu12-12.4.127-py3-none-manylinux2014_x86_64.whl (24.6 MB)\n",
            "\u001b[2K   \u001b[90m━━━━━━━━━━━━━━━━━━━━━━━━━━━━━━━━━━━━━━━━\u001b[0m \u001b[32m24.6/24.6 MB\u001b[0m \u001b[31m92.4 MB/s\u001b[0m eta \u001b[36m0:00:00\u001b[0m\n",
            "\u001b[?25hDownloading nvidia_cuda_runtime_cu12-12.4.127-py3-none-manylinux2014_x86_64.whl (883 kB)\n",
            "\u001b[2K   \u001b[90m━━━━━━━━━━━━━━━━━━━━━━━━━━━━━━━━━━━━━━━━\u001b[0m \u001b[32m883.7/883.7 kB\u001b[0m \u001b[31m55.4 MB/s\u001b[0m eta \u001b[36m0:00:00\u001b[0m\n",
            "\u001b[?25hDownloading nvidia_cudnn_cu12-9.1.0.70-py3-none-manylinux2014_x86_64.whl (664.8 MB)\n",
            "\u001b[2K   \u001b[90m━━━━━━━━━━━━━━━━━━━━━━━━━━━━━━━━━━━━━━━━\u001b[0m \u001b[32m664.8/664.8 MB\u001b[0m \u001b[31m2.7 MB/s\u001b[0m eta \u001b[36m0:00:00\u001b[0m\n",
            "\u001b[?25hDownloading nvidia_cufft_cu12-11.2.1.3-py3-none-manylinux2014_x86_64.whl (211.5 MB)\n",
            "\u001b[2K   \u001b[91m━━━━━━━━━━━━━━━━━━━━━━━━━━━━━━━━━━━━━━\u001b[0m\u001b[91m╸\u001b[0m \u001b[32m211.5/211.5 MB\u001b[0m \u001b[31m169.9 MB/s\u001b[0m eta \u001b[36m0:00:01\u001b[0m"
          ]
        }
      ]
    },
    {
      "cell_type": "code",
      "source": [
        "!pandadock --help\n"
      ],
      "metadata": {
        "colab": {
          "base_uri": "https://localhost:8080/"
        },
        "id": "-zGirvqPFBqL",
        "outputId": "8e654198-d21a-4ff5-b42b-9953a0409e22"
      },
      "execution_count": 1,
      "outputs": [
        {
          "output_type": "stream",
          "name": "stdout",
          "text": [
            "/bin/bash: line 1: pandadock: command not found\n"
          ]
        }
      ]
    },
    {
      "cell_type": "markdown",
      "source": [
        "#Example"
      ],
      "metadata": {
        "id": "b5VKW8YGahZI"
      }
    },
    {
      "cell_type": "code",
      "source": [
        "!git init\n",
        "!pwd\n",
        "!ls -a ..\n",
        "#!pandadock -p prot.pdb -l lig.sdf -s -25.09 100.717 3.524 --grid-radius 10.0 --grid-spacing 0.375 -a random --verbose --log-file pandadock_debug.log --cpu-workers 2 --num-orientations 30 --md-steps 100\n"
      ],
      "metadata": {
        "colab": {
          "base_uri": "https://localhost:8080/"
        },
        "id": "WiigYtJhQE0c",
        "outputId": "73383bae-3025-473e-d15f-0231f1a77d0c"
      },
      "execution_count": 10,
      "outputs": [
        {
          "output_type": "stream",
          "name": "stdout",
          "text": [
            "Reinitialized existing Git repository in /content/.git/\n",
            "/content\n",
            ".\t\t\t    .dockerenv\tmedia\t\t\t  run\n",
            "..\t\t\t    etc\t\tmnt\t\t\t  sbin\n",
            "bin\t\t\t    home\tNGC-DL-CONTAINER-LICENSE  srv\n",
            "boot\t\t\t    kaggle\topt\t\t\t  sys\n",
            "content\t\t\t    lib\t\tproc\t\t\t  tmp\n",
            "cuda-keyring_1.1-1_all.deb  lib32\tpython-apt\t\t  tools\n",
            "datalab\t\t\t    lib64\tpython-apt.tar.xz\t  usr\n",
            "dev\t\t\t    libx32\troot\t\t\t  var\n"
          ]
        }
      ]
    },
    {
      "cell_type": "markdown",
      "source": [
        "<div align=\"center\">\n",
        "\n",
        "## 🔬 **Detailed Analysis of Energy Components in the Top Docking Poses**\n",
        "\n",
        "</div>\n",
        "\n",
        "The molecular docking simulation generated a set of ligand-protein poses, each evaluated and ranked based on the **estimated total binding energy**. This allowed for the identification of the most favorable conformations in terms of interaction stability and complementarity.\n",
        "\n",
        "To further dissect the nature of these interactions, the **top 6 poses** were analyzed individually, breaking down their most relevant energetic contributions:\n",
        "\n",
        "---\n",
        "\n",
        "### 📊 **Energy Component Breakdown (Top 6 Poses)**\n",
        "\n",
        "| 🧷 **Pose** | ⚡ **Clash** | 💧 **Desolvation** | 🔋 **Electrostatics** | ♻️ **Entropy** | 🧪 **H-Bonds** | 🌑 **Hydrophobic** | 🔬 **Van der Waals** |\n",
        "|------------|-------------|--------------------|------------------------|----------------|----------------|--------------------|-----------------------|\n",
        "| 1          | -0.46       | -0.00              | -0.09                  | -0.12          | -0.09          | -0.09              | -0.14                 |\n",
        "| 2          | -0.93       | -0.00              | -0.19                  | -0.23          | -0.19          | -0.19              | -0.28                 |\n",
        "| 3          | -1.39       | -0.01              | -0.28                  | -0.35          | -0.28          | -0.28              | -0.42                 |\n",
        "| 4          | -1.86       | -0.01              | -0.37                  | -0.46          | -0.37          | -0.37              | -0.56                 |\n",
        "| 5          | -2.32       | -0.01              | -0.46                  | -0.58          | -0.46          | -0.46              | -0.70                 |\n",
        "| 6          | -2.78       | -0.01              | -0.56                  | -0.70          | -0.56          | -0.56              | -0.84                 |\n",
        "\n",
        "---\n",
        "\n",
        "### 🧠 **Component Interpretation**\n",
        "\n",
        "- **🧱 Clash (Steric Conflicts)**  \n",
        "  More negative values indicate reduced spatial interference, reflecting a **better geometrical fit** of the ligand into the protein's binding site. Pose 6 shows the least steric clash, pointing to optimized spatial accommodation.\n",
        "\n",
        "- **💧 Desolvation**  \n",
        "  Near-zero values across poses suggest that **solvent removal** upon binding is not a major differentiator, possibly due to consistent polarity profiles across poses.\n",
        "\n",
        "- **🔋 Electrostatics**  \n",
        "  Increasingly negative values suggest **stronger charge-dipole interactions**, enhancing the electrostatic stabilization of the complex.\n",
        "\n",
        "- **♻️ Entropy**  \n",
        "  A progressive reduction in entropy reflects **loss of ligand conformational freedom**, which is expected during binding and is often balanced by other favorable energies.\n",
        "\n",
        "- **🧪 Hydrogen Bonds**  \n",
        "  The trend toward more negative values indicates an **increase in hydrogen bonding strength and/or frequency**, favoring complex stability and specificity.\n",
        "\n",
        "- **🌑 Hydrophobic Interactions**  \n",
        "  These become more favorable in better-ranked poses, suggesting improved **hydrophobic complementarity** between ligand and binding pocket.\n",
        "\n",
        "- **🔬 Van der Waals**  \n",
        "  These interactions are essential for fine molecular recognition, and their increasing contribution highlights a **tighter molecular fit**.\n",
        "\n",
        "---\n",
        "\n",
        "### ✅ **Conclusion**\n",
        "\n",
        "The energy decomposition highlights that the best docking poses are characterized by:\n",
        "\n",
        "- ⚡ Reduced steric clashes  \n",
        "- 🔋 Stronger electrostatic and hydrogen bonding interactions  \n",
        "- 🌑 Enhanced hydrophobic effects  \n",
        "- 🔬 Improved van der Waals contacts  \n",
        "\n",
        "Despite the expected entropy loss, the **overall energetic profile supports a stable and specific ligand-protein interaction**. These findings validate the top-ranked poses as **promising candidates** for further refinement and validation through molecular dynamics simulations.\n",
        "\n",
        "---\n"
      ],
      "metadata": {
        "id": "8nFTgxAMSA6K"
      }
    },
    {
      "cell_type": "markdown",
      "source": [
        "<div align=\"center\">\n",
        "\n",
        "## 🧬 **Examples of Commands in PandaDock**\n",
        "\n",
        "</div>\n",
        "\n",
        "The following examples illustrate how to run **PandaDock** using different execution modes depending on your objectives — from standard docking to virtual screening, with options for GPU acceleration and enhanced scoring.\n",
        "\n",
        "---\n",
        "\n",
        "### ⚙️ Basic Docking (Default Genetic Algorithm)\n",
        "\n",
        "Runs a standard docking using the **genetic algorithm**, with defined grid coordinates and GPU acceleration:\n",
        "\n",
        "```bash\n",
        "!pandadock -p protein.pdb -l ligand.sdf -s -15.7 -17.7 8.1 --grid-radius 10.0 --grid-spacing 0.375 -i 10 -a genetic --use-gpu\n",
        "\n",
        "\n"
      ],
      "metadata": {
        "id": "OzK1GozZW_Iz"
      }
    },
    {
      "cell_type": "markdown",
      "source": [
        "### 🧠 PandaDock with MMGBSA Scoring\n",
        "\n",
        "Uses the **pandadock** algorithm with conformer generation and MMGBSA rescoring for improved accuracy:\n",
        "\n",
        "```bash\n",
        "!pandadock -p protein.pdb -l ligand.sdf -a pandadock --physics-based\n"
      ],
      "metadata": {
        "id": "5w_ebM1QXAOj"
      }
    },
    {
      "cell_type": "markdown",
      "source": [
        "### ⚡ GPU Acceleration\n",
        "\n",
        "Run docking with GPU support to speed up calculations, combined with physics-based options:\n",
        "\n",
        "```bash\n",
        "!pandadock -p protein.pdb -l ligand.sdf --use-gpu --physics-based -s -15.7 -17.7 8.1 --grid-radius 10.0 --grid-spacing 0.375\n",
        "```\n"
      ],
      "metadata": {
        "id": "DmHv12M9X16b"
      }
    },
    {
      "cell_type": "markdown",
      "source": [
        "🤖 Automatic Algorithm Selection\n",
        "Uses the pandadock tool to automatically select the best algorithm for the docking task:\n",
        "\n",
        "```bash\n",
        "!pandadock -p protein.pdb -l ligand.sdf --auto-algorithm -s -15.7 -17.7 8.1 --grid-radius 10.0 --grid-\n",
        "```"
      ],
      "metadata": {
        "id": "6BjUZ6qIYw_Z"
      }
    },
    {
      "cell_type": "markdown",
      "source": [
        "#🧪 Virtual Screening\n",
        "Performs high-throughput virtual screening using a ligand library, parallel processing, and GPU acceleration:\n",
        "\n",
        "\n",
        "```bash\n",
        "!pandadock --virtual-screening --ligand-library ligands/ --parallel-screening -p receptor.pdb -s -15.7 -17.7 8.1 --use-gpu -a random --num-modes 9 --vs-exhaustiveness 1 --screening-processes 36 --top-hits 10 --grid-spacing 0.3\n"
      ],
      "metadata": {
        "id": "-3o0XyYHZmDZ"
      }
    },
    {
      "cell_type": "markdown",
      "source": [
        "#🚀 Fast Mode\n",
        "Enables quick docking with minimal enhancements for speed:\n",
        "\n",
        "```bash\n",
        "!pandadock -p protein.pdb -l ligand.sdf --enhanced-scoring --local-opt --exhaustiveness 5 --prepare-molecules --flex-residues -s -15.7 -17.7 8.1 --grid-radius 10.0\n"
      ],
      "metadata": {
        "id": "AP5a_u29Zsk3"
      }
    },
    {
      "cell_type": "markdown",
      "source": [
        "#🎯 Enhanced Mode\n",
        "Combines scoring enhancements, local optimization, and flexible residues:\n",
        "\n",
        "```bash\n",
        "!pandadock -p protein.pdb -l ligand.sdf --enhanced-scoring --local-opt --exhaustiveness 5 --prepare-molecules --flex-residues -s -15.7 -17.7 8.1 --grid-radius 10.0\n"
      ],
      "metadata": {
        "id": "vJHDdhYpZ6Vw"
      }
    },
    {
      "cell_type": "markdown",
      "source": [
        "#⚛️ Physics Mode\n",
        "Uses a physics-based algorithm for more accurate docking results:\n",
        "\n",
        "```bash\n",
        "!pandadock -p protein.pdb -l ligand.sdf --physics-based -s -15.7 -17.7 8.1 --grid-radius 10.0\n"
      ],
      "metadata": {
        "id": "__xCDkPhZ-oY"
      }
    },
    {
      "cell_type": "markdown",
      "source": [
        "#🐼 PandaDock Mode\n",
        "Runs docking using the pandadock algorithm with conformer generation:\n",
        "\n",
        "```bash\n",
        "!pandadock -p protein.pdb -l ligand.sdf -a pandadock --prepare-molecules -s -15.7 -17.7 8.1 --grid-radius 10.0\n",
        "\n"
      ],
      "metadata": {
        "id": "WC4_EoYyaHyP"
      }
    }
  ]
}